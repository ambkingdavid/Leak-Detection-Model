{
 "cells": [
  {
   "cell_type": "markdown",
   "metadata": {},
   "source": [
    "DATA PROCESSING"
   ]
  },
  {
   "cell_type": "code",
   "execution_count": 2,
   "metadata": {},
   "outputs": [
    {
     "data": {
      "text/html": [
       "<div>\n",
       "<style scoped>\n",
       "    .dataframe tbody tr th:only-of-type {\n",
       "        vertical-align: middle;\n",
       "    }\n",
       "\n",
       "    .dataframe tbody tr th {\n",
       "        vertical-align: top;\n",
       "    }\n",
       "\n",
       "    .dataframe thead th {\n",
       "        text-align: right;\n",
       "    }\n",
       "</style>\n",
       "<table border=\"1\" class=\"dataframe\">\n",
       "  <thead>\n",
       "    <tr style=\"text-align: right;\">\n",
       "      <th></th>\n",
       "      <th>Wellhead_Temp. (C)</th>\n",
       "      <th>Wellhead_Press (psi)</th>\n",
       "      <th>MMCFD- gas</th>\n",
       "      <th>BOPD (barrel of oil produced per day)</th>\n",
       "      <th>BWPD (barrel of water produced per day)</th>\n",
       "      <th>BSW basic solid and water(%)</th>\n",
       "      <th>CO2 mol. (%) @ 25C &amp; 1 Atm</th>\n",
       "      <th>Gas Grav</th>\n",
       "      <th>CR-corrosion defect</th>\n",
       "      <th>leak_status</th>\n",
       "    </tr>\n",
       "  </thead>\n",
       "  <tbody>\n",
       "    <tr>\n",
       "      <th>0</th>\n",
       "      <td>51.088486</td>\n",
       "      <td>1364.601753</td>\n",
       "      <td>6.784434</td>\n",
       "      <td>404.673699</td>\n",
       "      <td>293.125995</td>\n",
       "      <td>5.265676</td>\n",
       "      <td>1.038911</td>\n",
       "      <td>0.601146</td>\n",
       "      <td>0.144365</td>\n",
       "      <td>1.0</td>\n",
       "    </tr>\n",
       "    <tr>\n",
       "      <th>1</th>\n",
       "      <td>51.096512</td>\n",
       "      <td>1474.635955</td>\n",
       "      <td>11.280674</td>\n",
       "      <td>364.764774</td>\n",
       "      <td>208.472370</td>\n",
       "      <td>5.331766</td>\n",
       "      <td>0.961022</td>\n",
       "      <td>0.618705</td>\n",
       "      <td>0.135026</td>\n",
       "      <td>0.0</td>\n",
       "    </tr>\n",
       "    <tr>\n",
       "      <th>2</th>\n",
       "      <td>57.631303</td>\n",
       "      <td>1233.116598</td>\n",
       "      <td>8.786931</td>\n",
       "      <td>414.652564</td>\n",
       "      <td>228.530184</td>\n",
       "      <td>5.696270</td>\n",
       "      <td>1.295514</td>\n",
       "      <td>0.712029</td>\n",
       "      <td>0.154846</td>\n",
       "      <td>1.0</td>\n",
       "    </tr>\n",
       "    <tr>\n",
       "      <th>3</th>\n",
       "      <td>55.413455</td>\n",
       "      <td>1564.958133</td>\n",
       "      <td>10.793411</td>\n",
       "      <td>511.357422</td>\n",
       "      <td>161.711604</td>\n",
       "      <td>6.073352</td>\n",
       "      <td>0.801719</td>\n",
       "      <td>0.640946</td>\n",
       "      <td>0.108198</td>\n",
       "      <td>0.0</td>\n",
       "    </tr>\n",
       "    <tr>\n",
       "      <th>4</th>\n",
       "      <td>36.821261</td>\n",
       "      <td>1500.806676</td>\n",
       "      <td>12.748623</td>\n",
       "      <td>537.593023</td>\n",
       "      <td>185.303039</td>\n",
       "      <td>4.867634</td>\n",
       "      <td>1.049567</td>\n",
       "      <td>0.644026</td>\n",
       "      <td>0.114479</td>\n",
       "      <td>0.0</td>\n",
       "    </tr>\n",
       "  </tbody>\n",
       "</table>\n",
       "</div>"
      ],
      "text/plain": [
       "   Wellhead_Temp. (C)  Wellhead_Press (psi)  MMCFD- gas  \\\n",
       "0           51.088486           1364.601753    6.784434   \n",
       "1           51.096512           1474.635955   11.280674   \n",
       "2           57.631303           1233.116598    8.786931   \n",
       "3           55.413455           1564.958133   10.793411   \n",
       "4           36.821261           1500.806676   12.748623   \n",
       "\n",
       "   BOPD (barrel of oil produced per day)  \\\n",
       "0                             404.673699   \n",
       "1                             364.764774   \n",
       "2                             414.652564   \n",
       "3                             511.357422   \n",
       "4                             537.593023   \n",
       "\n",
       "   BWPD (barrel of water produced per day)  BSW basic solid and water(%)  \\\n",
       "0                               293.125995                      5.265676   \n",
       "1                               208.472370                      5.331766   \n",
       "2                               228.530184                      5.696270   \n",
       "3                               161.711604                      6.073352   \n",
       "4                               185.303039                      4.867634   \n",
       "\n",
       "   CO2 mol. (%) @ 25C & 1 Atm  Gas Grav  CR-corrosion defect  leak_status  \n",
       "0                    1.038911  0.601146             0.144365          1.0  \n",
       "1                    0.961022  0.618705             0.135026          0.0  \n",
       "2                    1.295514  0.712029             0.154846          1.0  \n",
       "3                    0.801719  0.640946             0.108198          0.0  \n",
       "4                    1.049567  0.644026             0.114479          0.0  "
      ]
     },
     "execution_count": 2,
     "metadata": {},
     "output_type": "execute_result"
    }
   ],
   "source": [
    "import pandas as pd\n",
    "import numpy as np\n",
    "from sklearn.model_selection import train_test_split\n",
    "from sklearn.preprocessing import StandardScaler\n",
    "from tensorflow.keras.utils import to_categorical\n",
    "\n",
    "data = pd.read_csv('data.csv')\n",
    "data.head()"
   ]
  },
  {
   "cell_type": "code",
   "execution_count": 3,
   "metadata": {},
   "outputs": [
    {
     "name": "stdout",
     "output_type": "stream",
     "text": [
      "Wellhead_Temp. (C)                         0\n",
      "Wellhead_Press (psi)                       0\n",
      "MMCFD- gas                                 0\n",
      "BOPD (barrel of oil produced per day)      0\n",
      "BWPD (barrel of water produced per day)    0\n",
      "BSW basic solid and water(%)               0\n",
      "CO2 mol. (%) @ 25C & 1 Atm                 0\n",
      "Gas Grav                                   0\n",
      "CR-corrosion defect                        0\n",
      "leak_status                                0\n",
      "dtype: int64\n"
     ]
    }
   ],
   "source": [
    "print(data.isnull().sum())"
   ]
  },
  {
   "cell_type": "markdown",
   "metadata": {},
   "source": [
    "FEATURES AND TARGETS"
   ]
  },
  {
   "cell_type": "code",
   "execution_count": 4,
   "metadata": {},
   "outputs": [
    {
     "name": "stdout",
     "output_type": "stream",
     "text": [
      "done\n"
     ]
    }
   ],
   "source": [
    "X = data.drop('leak_status', axis=1)\n",
    "y = data['leak_status']\n",
    "\n",
    "X_train, X_test, y_train, y_test = train_test_split(X, y, test_size=0.3, random_state=42)\n",
    "\n",
    "# Standardize features\n",
    "scaler = StandardScaler()\n",
    "X_train = scaler.fit_transform(X_train)\n",
    "X_test = scaler.transform(X_test)\n",
    "\n",
    "print('done')"
   ]
  },
  {
   "cell_type": "markdown",
   "metadata": {},
   "source": [
    "RESHAPE DATA FOR LSTM"
   ]
  },
  {
   "cell_type": "code",
   "execution_count": 5,
   "metadata": {},
   "outputs": [
    {
     "name": "stdout",
     "output_type": "stream",
     "text": [
      "done\n"
     ]
    }
   ],
   "source": [
    "X_train_lstm = np.reshape(X_train, (X_train.shape[0], 1, X_train.shape[1]))\n",
    "X_test_lstm = np.reshape(X_test, (X_test.shape[0], 1, X_test.shape[1]))\n",
    "\n",
    "print('done')"
   ]
  },
  {
   "cell_type": "markdown",
   "metadata": {},
   "source": [
    "CONVERT LABELS TO CATEGORICAL ONE-HOT ENCODING"
   ]
  },
  {
   "cell_type": "code",
   "execution_count": 6,
   "metadata": {},
   "outputs": [],
   "source": [
    "y_train_lstm = to_categorical(y_train)\n",
    "y_test_lstm = to_categorical(y_test)"
   ]
  },
  {
   "cell_type": "markdown",
   "metadata": {},
   "source": [
    "LSTM MODEL"
   ]
  },
  {
   "cell_type": "code",
   "execution_count": 7,
   "metadata": {},
   "outputs": [
    {
     "name": "stdout",
     "output_type": "stream",
     "text": [
      "Trial 10 Complete [00h 00m 52s]\n",
      "val_accuracy: 0.8192222317059835\n",
      "\n",
      "Best val_accuracy So Far: 0.859000007311503\n",
      "Total elapsed time: 00h 12m 04s\n",
      "Best Hyperparameters:\n",
      "Units: 224\n",
      "Learning Rate: 0.001\n"
     ]
    }
   ],
   "source": [
    "import keras_tuner as kt\n",
    "from tensorflow.keras.models import Sequential\n",
    "from tensorflow.keras.layers import LSTM, Dense\n",
    "from tensorflow.keras.optimizers import Adam\n",
    "\n",
    "\n",
    "def build_model(hp):\n",
    "    model = Sequential()\n",
    "    model.add(LSTM(units=hp.Int('units', min_value=32, max_value=256, step=32), input_shape=(1, X_train.shape[1])))\n",
    "    model.add(Dense(4, activation='softmax'))\n",
    "    model.compile(optimizer=Adam(hp.Choice('learning_rate', values=[1e-2, 1e-3, 1e-4])), loss='categorical_crossentropy', metrics=['accuracy'])\n",
    "    return model\n",
    "\n",
    "\n",
    "tuner = kt.RandomSearch(\n",
    "    build_model,\n",
    "    objective='val_accuracy',\n",
    "    max_trials=10,\n",
    "    executions_per_trial=3,\n",
    "    directory='my_dir',\n",
    "    project_name='LSTM_tuning'\n",
    ")\n",
    "\n",
    "# Run hyperparameter search\n",
    "tuner.search(X_train_lstm, y_train_lstm, epochs=10, validation_data=(X_test_lstm, y_test_lstm))\n",
    "\n",
    "best_hps = tuner.get_best_hyperparameters(num_trials=1)[0]\n",
    "print(\"Best Hyperparameters:\")\n",
    "print(f\"Units: {best_hps.get('units')}\")\n",
    "print(f\"Learning Rate: {best_hps.get('learning_rate')}\")"
   ]
  },
  {
   "cell_type": "markdown",
   "metadata": {},
   "source": [
    "TRAIN MODEL"
   ]
  },
  {
   "cell_type": "code",
   "execution_count": 8,
   "metadata": {},
   "outputs": [
    {
     "name": "stdout",
     "output_type": "stream",
     "text": [
      "Epoch 1/10\n",
      "\u001b[1m219/219\u001b[0m \u001b[32m━━━━━━━━━━━━━━━━━━━━\u001b[0m\u001b[37m\u001b[0m \u001b[1m10s\u001b[0m 12ms/step - accuracy: 0.6528 - loss: 0.9410 - val_accuracy: 0.8297 - val_loss: 0.4590\n",
      "Epoch 2/10\n",
      "\u001b[1m219/219\u001b[0m \u001b[32m━━━━━━━━━━━━━━━━━━━━\u001b[0m\u001b[37m\u001b[0m \u001b[1m2s\u001b[0m 10ms/step - accuracy: 0.8248 - loss: 0.4301 - val_accuracy: 0.8507 - val_loss: 0.3702\n",
      "Epoch 3/10\n",
      "\u001b[1m219/219\u001b[0m \u001b[32m━━━━━━━━━━━━━━━━━━━━\u001b[0m\u001b[37m\u001b[0m \u001b[1m2s\u001b[0m 9ms/step - accuracy: 0.8355 - loss: 0.3827 - val_accuracy: 0.8543 - val_loss: 0.3548\n",
      "Epoch 4/10\n",
      "\u001b[1m219/219\u001b[0m \u001b[32m━━━━━━━━━━━━━━━━━━━━\u001b[0m\u001b[37m\u001b[0m \u001b[1m2s\u001b[0m 9ms/step - accuracy: 0.8423 - loss: 0.3619 - val_accuracy: 0.8560 - val_loss: 0.3572\n",
      "Epoch 5/10\n",
      "\u001b[1m219/219\u001b[0m \u001b[32m━━━━━━━━━━━━━━━━━━━━\u001b[0m\u001b[37m\u001b[0m \u001b[1m2s\u001b[0m 10ms/step - accuracy: 0.8485 - loss: 0.3605 - val_accuracy: 0.8533 - val_loss: 0.3534\n",
      "Epoch 6/10\n",
      "\u001b[1m219/219\u001b[0m \u001b[32m━━━━━━━━━━━━━━━━━━━━\u001b[0m\u001b[37m\u001b[0m \u001b[1m2s\u001b[0m 9ms/step - accuracy: 0.8514 - loss: 0.3488 - val_accuracy: 0.8580 - val_loss: 0.3523\n",
      "Epoch 7/10\n",
      "\u001b[1m219/219\u001b[0m \u001b[32m━━━━━━━━━━━━━━━━━━━━\u001b[0m\u001b[37m\u001b[0m \u001b[1m2s\u001b[0m 9ms/step - accuracy: 0.8425 - loss: 0.3715 - val_accuracy: 0.8563 - val_loss: 0.3544\n",
      "Epoch 8/10\n",
      "\u001b[1m219/219\u001b[0m \u001b[32m━━━━━━━━━━━━━━━━━━━━\u001b[0m\u001b[37m\u001b[0m \u001b[1m2s\u001b[0m 9ms/step - accuracy: 0.8518 - loss: 0.3531 - val_accuracy: 0.8560 - val_loss: 0.3528\n",
      "Epoch 9/10\n",
      "\u001b[1m219/219\u001b[0m \u001b[32m━━━━━━━━━━━━━━━━━━━━\u001b[0m\u001b[37m\u001b[0m \u001b[1m2s\u001b[0m 10ms/step - accuracy: 0.8417 - loss: 0.3688 - val_accuracy: 0.8570 - val_loss: 0.3604\n",
      "Epoch 10/10\n",
      "\u001b[1m219/219\u001b[0m \u001b[32m━━━━━━━━━━━━━━━━━━━━\u001b[0m\u001b[37m\u001b[0m \u001b[1m2s\u001b[0m 9ms/step - accuracy: 0.8498 - loss: 0.3510 - val_accuracy: 0.8563 - val_loss: 0.3550\n"
     ]
    }
   ],
   "source": [
    "model = tuner.hypermodel.build(best_hps)\n",
    "history = model.fit(X_train_lstm, y_train_lstm, epochs=10, validation_data=(X_test_lstm, y_test_lstm))"
   ]
  },
  {
   "cell_type": "markdown",
   "metadata": {},
   "source": [
    "SAVE MODEL"
   ]
  },
  {
   "cell_type": "code",
   "execution_count": 17,
   "metadata": {},
   "outputs": [
    {
     "name": "stdout",
     "output_type": "stream",
     "text": [
      "done\n"
     ]
    }
   ],
   "source": [
    "model.save('lstm_model.keras')\n",
    "\n",
    "print('done')"
   ]
  },
  {
   "cell_type": "markdown",
   "metadata": {},
   "source": [
    "MODEL EVALUATION"
   ]
  },
  {
   "cell_type": "code",
   "execution_count": 19,
   "metadata": {},
   "outputs": [
    {
     "name": "stdout",
     "output_type": "stream",
     "text": [
      "\u001b[1m94/94\u001b[0m \u001b[32m━━━━━━━━━━━━━━━━━━━━\u001b[0m\u001b[37m\u001b[0m \u001b[1m1s\u001b[0m 5ms/step\n"
     ]
    }
   ],
   "source": [
    "from tensorflow.keras.models import load_model\n",
    "from sklearn.metrics import confusion_matrix, classification_report\n",
    "from sklearn.metrics import roc_auc_score\n",
    "\n",
    "loaded_model = load_model('lstm_model.keras')\n",
    "\n",
    "y_pred_proba = loaded_model.predict(X_test_lstm)\n",
    "y_pred = np.argmax(y_pred_proba, axis=1)  # Predicted classes\n",
    "y_true = np.argmax(y_test_lstm, axis=1)   # True classes"
   ]
  },
  {
   "cell_type": "markdown",
   "metadata": {},
   "source": [
    "CONFUSION MATRIX"
   ]
  },
  {
   "cell_type": "code",
   "execution_count": 20,
   "metadata": {},
   "outputs": [
    {
     "name": "stdout",
     "output_type": "stream",
     "text": [
      "Confusion Matrix:\n",
      "[[1466   70    0    0]\n",
      " [ 117  419   53    0]\n",
      " [   0   83  455   55]\n",
      " [   0    0   53  229]]\n"
     ]
    }
   ],
   "source": [
    "from sklearn.metrics import confusion_matrix, classification_report\n",
    "\n",
    "\n",
    "conf_matrix = confusion_matrix(y_true, y_pred)\n",
    "print(\"Confusion Matrix:\")\n",
    "print(conf_matrix)\n"
   ]
  },
  {
   "cell_type": "markdown",
   "metadata": {},
   "source": [
    "CLASSIFICATION REPORT"
   ]
  },
  {
   "cell_type": "code",
   "execution_count": 21,
   "metadata": {},
   "outputs": [
    {
     "name": "stdout",
     "output_type": "stream",
     "text": [
      "Classification Report:\n",
      "               precision    recall  f1-score   support\n",
      "\n",
      "       Normal       0.93      0.95      0.94      1536\n",
      "   Minor Leak       0.73      0.71      0.72       589\n",
      "Moderate Leak       0.81      0.77      0.79       593\n",
      "  Severe Leak       0.81      0.81      0.81       282\n",
      "\n",
      "     accuracy                           0.86      3000\n",
      "    macro avg       0.82      0.81      0.81      3000\n",
      " weighted avg       0.85      0.86      0.85      3000\n",
      "\n"
     ]
    }
   ],
   "source": [
    "class_report = classification_report(y_true, y_pred, target_names=['Normal', 'Minor Leak', 'Moderate Leak', 'Severe Leak'])\n",
    "print(\"Classification Report:\")\n",
    "print(class_report)"
   ]
  },
  {
   "cell_type": "markdown",
   "metadata": {},
   "source": [
    "ROC_AUC SCORE"
   ]
  },
  {
   "cell_type": "code",
   "execution_count": 22,
   "metadata": {},
   "outputs": [
    {
     "name": "stdout",
     "output_type": "stream",
     "text": [
      "ROC-AUC Score: 0.967558416956429\n"
     ]
    }
   ],
   "source": [
    "roc_auc = roc_auc_score(y_test_lstm, y_pred_proba, multi_class='ovr')\n",
    "print(\"ROC-AUC Score:\", roc_auc)"
   ]
  }
 ],
 "metadata": {
  "kernelspec": {
   "display_name": "myenv",
   "language": "python",
   "name": "python3"
  },
  "language_info": {
   "codemirror_mode": {
    "name": "ipython",
    "version": 3
   },
   "file_extension": ".py",
   "mimetype": "text/x-python",
   "name": "python",
   "nbconvert_exporter": "python",
   "pygments_lexer": "ipython3",
   "version": "3.10.12"
  }
 },
 "nbformat": 4,
 "nbformat_minor": 2
}
